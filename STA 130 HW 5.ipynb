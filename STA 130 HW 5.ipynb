{
 "cells": [
  {
   "cell_type": "markdown",
   "id": "e60c4d2b",
   "metadata": {},
   "source": [
    "1: The \"first pre-lecture video\" (above) describes hypothesis testing as addressing \"an idea that can be tested\", and the end of the video then discusses what our actual intended purpose in setting up a null hypothesis is. What is the key factor that makes the difference between ideas that can, and cannot be examined and tested statistically? What would you describe is the key \"criteria\" defining what a good null hypothesis is? And what is the difference between a null hypothesis and an alternative hypothesis in the context of hypothesis testing? Answer these questions with concise explanations in your own words."
   ]
  },
  {
   "cell_type": "markdown",
   "id": "6f91e6a6",
   "metadata": {},
   "source": [
    "The difference between ideas that can, and cannot be examined and tested statistically is that one is measurable and the another is not. Secondally, a good null hypothesis is clear and testable, and while the null hypothesis says there’s no effect, the alternative hypothesis says there is an effect."
   ]
  },
  {
   "cell_type": "markdown",
   "id": "690912ad",
   "metadata": {},
   "source": [
    "2: Towards the end of the \"first pre-lecture\" video (above) it is stated that, \"It is important to note that outcomes of tests refer to the population parameter, rather than the sample statistic! As such, the result that we get is for the population.\" In terms of the distinctions between the concepts of  𝑥𝑖 's,  𝑥¯,  𝜇, and  𝜇0, how would you describe what the sentence above means? Explain this concisely in your own words for a \"non-statsitical\" audience, defining the technical statistical terminology you use in your answer."
   ]
  },
  {
   "cell_type": "markdown",
   "id": "4d43a9da",
   "metadata": {},
   "source": [
    "When we do a statistical test, we’re using the data from a small group (sample) to make a conclusion about the true average (𝜇) of the whole group we care about (population), not just the average (𝑥¯) of the sample we measured, and the test checks if this true average is what we assumed it to be (𝜇₀)."
   ]
  },
  {
   "cell_type": "markdown",
   "id": "18911a78",
   "metadata": {},
   "source": [
    "3: The second \"Pre-lecture\" video (above) explains that we \"imagine a world where the null hypothesis is true\" when calculating a p-value? Explain why this is in your own words in a way that makes the most sense to you."
   ]
  },
  {
   "cell_type": "markdown",
   "id": "62d7feeb",
   "metadata": {},
   "source": [
    "When we calculate a p-value, we pretend that the null hypothesis is true to see how likely it is to get our sample result if there is really no effect or no difference. The p-value helps us understand if our sample result is common or rare in this \"null world.\" We compare our sample result to the sampling distribution, which shows what results we expect if the null hypothesis is true. If our result is very unlikely, we may reject the null hypothesis."
   ]
  },
  {
   "cell_type": "markdown",
   "id": "16404335",
   "metadata": {},
   "source": [
    "4: The second \"Pre-lecture\" video (above) suggests that a smaller p-value makes the null hypothesis look more ridiculous. Explain why this is in your own words in a way that makes the most sense to you, clarifying the meaning of any technical statistical terminology you use in your answer."
   ]
  },
  {
   "cell_type": "markdown",
   "id": "90c1dd2c",
   "metadata": {},
   "source": [
    "According the second vidoe, a smaller p-value makes the null hypothesis look more ridiculous because it's like saying (assuming the H0 is true)the chance of getting our sample result is very small. So, if the p-value is very small, it means our result is so unlikely in a world where the null hypothesis is true that it seems hard to believe the null hypothesis could actually be correct."
   ]
  },
  {
   "cell_type": "markdown",
   "id": "5196b4d8",
   "metadata": {},
   "source": [
    "5: Güntürkün (2003) recorded how kissing couples tilt their heads. 80 out of 124 couples, or 64.5% tilted their heads to the right. Simulate a p-value using a \"50/50 coin-flipping\" model for the assumption of the null hypothesis  𝐻0\n",
    "  that the population of humans don't have left or right head tilt tendencies when kissing, and use the table below to determine the level of evidence we have against  𝐻0."
   ]
  },
  {
   "cell_type": "markdown",
   "id": "fd6cfa1b",
   "metadata": {},
   "source": [
    "Please find my simulation Python code below:"
   ]
  },
  {
   "cell_type": "code",
   "execution_count": 7,
   "id": "6644fd7b",
   "metadata": {},
   "outputs": [
    {
     "name": "stdout",
     "output_type": "stream",
     "text": [
      "P-value: 0.0\n"
     ]
    }
   ],
   "source": [
    "import numpy as np\n",
    "\n",
    "observed_right_tilts = 80\n",
    "n_kisses = 100\n",
    "p = 0.5\n",
    "\n",
    "n_simulations = 10000\n",
    "simulations = np.random.binomial(n=n_kisses, p=p, size=n_simulations)\n",
    "\n",
    "extreme_results = np.sum(simulations >= observed_right_tilts)\n",
    "\n",
    "p_value = extreme_results / n_simulations\n",
    "print(f\"P-value: {p_value}\")\n"
   ]
  },
  {
   "cell_type": "markdown",
   "id": "1963ef19",
   "metadata": {},
   "source": [
    "At this case, I assumed that 80 couples tilts their heads to the out of every 100, and I set my null hypothesis to be 0.5 chances for couples titles their heads during the kissing. As for the number of simulations, I set it to 10000 just to make sure the accuracy. Then I use code to count how many simulations had results as extreme or more extreme than 80 right tilts, and by doing this, the code eventually lead me to a p-value of 0.\n",
    "\n",
    "According to the chart listed below the question, the 0 p-value means that none of the 10,000 simulations resulted in 80 or more right tilts. In other words, the probability of observing 80 or more right tilts purely by chance is extremely unlikely under the null hypothesis of 50/50."
   ]
  },
  {
   "cell_type": "markdown",
   "id": "444bce4a",
   "metadata": {},
   "source": [
    "6: Can a smaller p-value definitively prove that the null hypothesis is false? Is it possible to definitively prove that Fido (from the \"second pre-lecture video\") is innocent using a p-value? Is it possible to difinitively prove that Fido is guilty using a p-value? How low or high does a p-value have to be to definitely prove one or the other? Explain this concisely in your own words."
   ]
  },
  {
   "cell_type": "markdown",
   "id": "b611eed2",
   "metadata": {},
   "source": [
    "No, the smaller p-value only means that your null hypothesis is unlikely to  be true, just like they lady in the first pre-class video said, the smaller the p-value, ther more ridiculous your H0 is. However, even it's ridiculous, it does not mean impossible. In other words, there is still a small chance that Fido is innocent, maybe it was the neighboor broke in the window and made that prank. Vice Versa, using a p-value, we cannot definitively prove that Fido is innocent or guilty. The p-value tells us how likely the observed data is under the assumption of innocence (null hypothesis), but it doesn't give certainty."
   ]
  },
  {
   "cell_type": "markdown",
   "id": "3cce0a4c",
   "metadata": {},
   "source": [
    "8: Complete the following assignment.¶"
   ]
  },
  {
   "cell_type": "markdown",
   "id": "488cf355",
   "metadata": {},
   "source": [
    "Problem Introduction:\n",
    "In this experiment, we investigate the ability of a random sample of STA130 students to determine whether milk or tea was poured first in a cup of tea. We are interested in understanding the accuracy of their responses, specifically focusing on the number of students who can correctly identify the order of pouring.\n",
    "\n",
    "Although both Fisher&Bristol and STA 130 experiments have a similar setup, our experiment looks at STA130 students, which might lead to different outcomes because of differences in sample size, the types of people involved, and the situation. In the original experiment, the focus was on a more personal parameter, while in our case, it relates to a wider idea about a group of students.\n",
    "\n",
    "My null hypothesis is that the proportion of students who can correctly identify the order of pouring is equal to 0.5 (or 50%), which means no better than random guessing. The alternative hypothesis is that the proportion of students who can correctly identify the order of pouring is not equal to 0.5(negation)."
   ]
  },
  {
   "cell_type": "markdown",
   "id": "30a19191",
   "metadata": {},
   "source": [
    "Quantitative Analysis:\n",
    "\n",
    "We will simulate a sampling distribution of proportions under the null hypothesis using a binomial model. This approach allows us to understand how unusual our observed test statistic is under the assumption that is true.\n",
    "\n",
    "Supporting Visualization:"
   ]
  },
  {
   "cell_type": "code",
   "execution_count": 10,
   "id": "a77f69a9",
   "metadata": {},
   "outputs": [
    {
     "name": "stdout",
     "output_type": "stream",
     "text": [
      "Observed Proportion: 0.6125\n",
      "Simulated p-value: 0.0297\n"
     ]
    },
    {
     "ename": "TypeError",
     "evalue": "show() got an unexpected keyword argument 'renderer'",
     "output_type": "error",
     "traceback": [
      "\u001b[0;31m---------------------------------------------------------------------------\u001b[0m",
      "\u001b[0;31mTypeError\u001b[0m                                 Traceback (most recent call last)",
      "Cell \u001b[0;32mIn[10], line 37\u001b[0m\n\u001b[1;32m     34\u001b[0m plt\u001b[38;5;241m.\u001b[39msavefig(\u001b[38;5;124m'\u001b[39m\u001b[38;5;124msimulation_histogram.png\u001b[39m\u001b[38;5;124m'\u001b[39m, \u001b[38;5;28mformat\u001b[39m\u001b[38;5;241m=\u001b[39m\u001b[38;5;124m'\u001b[39m\u001b[38;5;124mpng\u001b[39m\u001b[38;5;124m'\u001b[39m)\n\u001b[1;32m     36\u001b[0m \u001b[38;5;66;03m# Show the figure as PNG\u001b[39;00m\n\u001b[0;32m---> 37\u001b[0m \u001b[43mplt\u001b[49m\u001b[38;5;241;43m.\u001b[39;49m\u001b[43mshow\u001b[49m\u001b[43m(\u001b[49m\u001b[43mrenderer\u001b[49m\u001b[38;5;241;43m=\u001b[39;49m\u001b[38;5;124;43m\"\u001b[39;49m\u001b[38;5;124;43mpng\u001b[39;49m\u001b[38;5;124;43m\"\u001b[39;49m\u001b[43m)\u001b[49m\n",
      "File \u001b[0;32m/opt/conda/lib/python3.11/site-packages/matplotlib/pyplot.py:527\u001b[0m, in \u001b[0;36mshow\u001b[0;34m(*args, **kwargs)\u001b[0m\n\u001b[1;32m    483\u001b[0m \u001b[38;5;250m\u001b[39m\u001b[38;5;124;03m\"\"\"\u001b[39;00m\n\u001b[1;32m    484\u001b[0m \u001b[38;5;124;03mDisplay all open figures.\u001b[39;00m\n\u001b[1;32m    485\u001b[0m \n\u001b[0;32m   (...)\u001b[0m\n\u001b[1;32m    524\u001b[0m \u001b[38;5;124;03mexplicitly there.\u001b[39;00m\n\u001b[1;32m    525\u001b[0m \u001b[38;5;124;03m\"\"\"\u001b[39;00m\n\u001b[1;32m    526\u001b[0m _warn_if_gui_out_of_main_thread()\n\u001b[0;32m--> 527\u001b[0m \u001b[38;5;28;01mreturn\u001b[39;00m \u001b[43m_get_backend_mod\u001b[49m\u001b[43m(\u001b[49m\u001b[43m)\u001b[49m\u001b[38;5;241;43m.\u001b[39;49m\u001b[43mshow\u001b[49m\u001b[43m(\u001b[49m\u001b[38;5;241;43m*\u001b[39;49m\u001b[43margs\u001b[49m\u001b[43m,\u001b[49m\u001b[43m \u001b[49m\u001b[38;5;241;43m*\u001b[39;49m\u001b[38;5;241;43m*\u001b[39;49m\u001b[43mkwargs\u001b[49m\u001b[43m)\u001b[49m\n",
      "\u001b[0;31mTypeError\u001b[0m: show() got an unexpected keyword argument 'renderer'"
     ]
    },
    {
     "data": {
      "image/png": "[encoded data removed]",
      "text/plain": [
       "<Figure size 640x480 with 1 Axes>"
      ]
     },
     "metadata": {},
     "output_type": "display_data"
    }
   ],
   "source": [
    "import numpy as np\n",
    "import matplotlib.pyplot as plt\n",
    "\n",
    "# Given data\n",
    "n_students = 80  # Total number of students\n",
    "correct_responses = 49  # Correct responses\n",
    "\n",
    "# Parameters for null hypothesis\n",
    "p_null = 0.5\n",
    "n_simulations = 10000  # Number of simulations\n",
    "\n",
    "# Simulate the number of correct responses under the null hypothesis\n",
    "simulated_correct = np.random.binomial(n=n_students, p=p_null, size=n_simulations)\n",
    "\n",
    "# Calculate observed proportion\n",
    "observed_proportion = correct_responses / n_students\n",
    "\n",
    "# Calculate p-value\n",
    "p_value = np.mean(simulated_correct >= correct_responses)\n",
    "\n",
    "# Print results\n",
    "print(f\"Observed Proportion: {observed_proportion:.4f}\")\n",
    "print(f\"Simulated p-value: {p_value:.4f}\")\n",
    "\n",
    "# Optional: Plot the distribution of simulated results\n",
    "plt.hist(simulated_correct / n_students, bins=30, alpha=0.7, label='Simulated Proportions')\n",
    "plt.axvline(observed_proportion, color='red', linestyle='dashed', linewidth=2, label='Observed Proportion')\n",
    "plt.xlabel('Proportion of Correct Responses')\n",
    "plt.ylabel('Frequency')\n",
    "plt.title('Simulation of Proportions under Null Hypothesis')\n",
    "plt.legend()\n",
    "\n",
    "# Save the figure as PNG\n",
    "plt.savefig('simulation_histogram.png', format='png')\n",
    "\n",
    "# Show the figure as PNG\n",
    "plt.show(renderer=\"png\")\n"
   ]
  },
  {
   "cell_type": "markdown",
   "id": "3d3239d3",
   "metadata": {},
   "source": [
    "As a result, we calculated that the p-value here is 0.6125. This means that we do not have enough evidence to reject, suggesting that students may not have a better ability than random guessing."
   ]
  },
  {
   "cell_type": "markdown",
   "id": "31f253a0",
   "metadata": {},
   "source": [
    "Findings and Discussion:\n",
    "\n",
    "After running the simulation, we can analyze the results. If the p-value is less than our significance level (0.05, according to the chart before), we will reject the null hypothesis, meaning that the students' ability to identify the pouring order is significantly better than random guessing. Conversely, a higher p-value would imply insufficient evidence to reject"
   ]
  }
 ],
 "metadata": {
  "kernelspec": {
   "display_name": "Python 3 (ipykernel)",
   "language": "python",
   "name": "python3"
  },
  "language_info": {
   "codemirror_mode": {
    "name": "ipython",
    "version": 3
   },
   "file_extension": ".py",
   "mimetype": "text/x-python",
   "name": "python",
   "nbconvert_exporter": "python",
   "pygments_lexer": "ipython3",
   "version": "3.11.6"
  }
 },
 "nbformat": 4,
 "nbformat_minor": 5
}
